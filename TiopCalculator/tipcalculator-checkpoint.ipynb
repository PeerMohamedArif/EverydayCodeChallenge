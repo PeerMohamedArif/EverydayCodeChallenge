{
 "cells": [
  {
   "cell_type": "code",
   "execution_count": 55,
   "id": "2d2d5443-ff75-48bb-82c6-4b25d068b416",
   "metadata": {},
   "outputs": [
    {
     "name": "stdout",
     "output_type": "stream",
     "text": [
      "Welcome to the Tip calculator\n"
     ]
    }
   ],
   "source": [
    "print('Welcome to the Tip calculator')"
   ]
  },
  {
   "cell_type": "code",
   "execution_count": 56,
   "id": "1039aa42-855f-4cd6-98d4-c5db70d856d3",
   "metadata": {},
   "outputs": [
    {
     "name": "stdin",
     "output_type": "stream",
     "text": [
      "what was the total amount? $ 153.45\n"
     ]
    }
   ],
   "source": [
    "amount=float(input('what was the total amount? $'))"
   ]
  },
  {
   "cell_type": "code",
   "execution_count": 57,
   "id": "0ba59072-2776-40ba-83a5-5b4619cb57f3",
   "metadata": {},
   "outputs": [
    {
     "name": "stdin",
     "output_type": "stream",
     "text": [
      "how much tip would you like to give? 10,12 or 15 in percentage? 15\n"
     ]
    }
   ],
   "source": [
    "tip=int(input('how much tip would you like to give? 10,12 or 15 in percentage?'))"
   ]
  },
  {
   "cell_type": "code",
   "execution_count": 58,
   "id": "fa41a208-ab24-4dfa-b83d-7ba90d0c7e87",
   "metadata": {},
   "outputs": [],
   "source": [
    "tip= (tip/100)*amount"
   ]
  },
  {
   "cell_type": "code",
   "execution_count": 59,
   "id": "9fd14879-3434-48e0-866a-216c8f0fc21d",
   "metadata": {},
   "outputs": [
    {
     "name": "stdin",
     "output_type": "stream",
     "text": [
      "how many people to split the bill?  5\n"
     ]
    }
   ],
   "source": [
    "split=int(input('how many people to split the bill? '))"
   ]
  },
  {
   "cell_type": "code",
   "execution_count": 60,
   "id": "f7de0864-753f-4c3f-bae4-c0f48f521b00",
   "metadata": {},
   "outputs": [],
   "source": [
    "perpersonamnt= float( (amount+tip)/split)"
   ]
  },
  {
   "cell_type": "code",
   "execution_count": 61,
   "id": "ad379ad3-ece9-47b8-a8ae-9cefcff88ca2",
   "metadata": {},
   "outputs": [],
   "source": [
    "final_amount=round(perpersonamnt,2)"
   ]
  },
  {
   "cell_type": "code",
   "execution_count": 64,
   "id": "e84eefe4-7f4f-47a8-891d-de8b58a15a31",
   "metadata": {},
   "outputs": [],
   "source": [
    "final_amount=\"{:.2f}\".format(perpersonamnt) # sometimes 2nd decimal no doesnt come in that case to use 0 in it"
   ]
  },
  {
   "cell_type": "code",
   "execution_count": 62,
   "id": "a20e5e35-a631-48f8-9290-9c698498f1d5",
   "metadata": {},
   "outputs": [
    {
     "name": "stdout",
     "output_type": "stream",
     "text": [
      "each person should pay: $ 35.29\n"
     ]
    }
   ],
   "source": [
    "print('each person should pay: $',final_amount)"
   ]
  },
  {
   "cell_type": "code",
   "execution_count": null,
   "id": "5142333f-74b8-464d-ab92-69941a3caf63",
   "metadata": {},
   "outputs": [],
   "source": []
  }
 ],
 "metadata": {
  "kernelspec": {
   "display_name": "Python 3 (ipykernel)",
   "language": "python",
   "name": "python3"
  },
  "language_info": {
   "codemirror_mode": {
    "name": "ipython",
    "version": 3
   },
   "file_extension": ".py",
   "mimetype": "text/x-python",
   "name": "python",
   "nbconvert_exporter": "python",
   "pygments_lexer": "ipython3",
   "version": "3.12.4"
  }
 },
 "nbformat": 4,
 "nbformat_minor": 5
}
