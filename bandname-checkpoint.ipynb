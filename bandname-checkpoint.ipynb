{
 "cells": [
  {
   "cell_type": "code",
   "execution_count": 4,
   "id": "d4d50f5f-5914-433f-b735-5d6c15bede1c",
   "metadata": {},
   "outputs": [
    {
     "name": "stdout",
     "output_type": "stream",
     "text": [
      "give run to generate band name\n"
     ]
    },
    {
     "name": "stdin",
     "output_type": "stream",
     "text": [
      " run\n"
     ]
    },
    {
     "name": "stdout",
     "output_type": "stream",
     "text": [
      "what is your city name\n"
     ]
    },
    {
     "name": "stdin",
     "output_type": "stream",
     "text": [
      " kil\n"
     ]
    },
    {
     "name": "stdout",
     "output_type": "stream",
     "text": [
      "what is your pet name\n"
     ]
    },
    {
     "name": "stdin",
     "output_type": "stream",
     "text": [
      " ben\n"
     ]
    },
    {
     "name": "stdout",
     "output_type": "stream",
     "text": [
      "your band name is kil  ben\n"
     ]
    }
   ],
   "source": [
    " print('give run to generate band name')\n",
    "a=input()\n",
    "if(a=='run'):\n",
    "    print('what is your city name')\n",
    "    b=input()\n",
    "    print('what is your pet name')\n",
    "    c=input()\n",
    "    print('your band name is ' +b+ '  '+c)\n",
    "\n",
    "else:\n",
    "    print('invalid entry')"
   ]
  },
  {
   "cell_type": "code",
   "execution_count": null,
   "id": "15d48f92-fade-40c2-8569-67659277b33c",
   "metadata": {},
   "outputs": [],
   "source": []
  }
 ],
 "metadata": {
  "kernelspec": {
   "display_name": "Python 3 (ipykernel)",
   "language": "python",
   "name": "python3"
  },
  "language_info": {
   "codemirror_mode": {
    "name": "ipython",
    "version": 3
   },
   "file_extension": ".py",
   "mimetype": "text/x-python",
   "name": "python",
   "nbconvert_exporter": "python",
   "pygments_lexer": "ipython3",
   "version": "3.12.4"
  }
 },
 "nbformat": 4,
 "nbformat_minor": 5
}
